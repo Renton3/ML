{
 "cells": [
  {
   "cell_type": "markdown",
   "metadata": {},
   "source": [
    "**ONLY FOR BOYS**"
   ]
  },
  {
   "cell_type": "markdown",
   "metadata": {},
   "source": [
    "CHANCE TO HAVE THREESOM WITH HOT CHEEKS CALCULATOR v.1"
   ]
  },
  {
   "cell_type": "markdown",
   "metadata": {},
   "source": [
    "This product is not a guide to action.\n",
    "Use it at your own risk"
   ]
  },
  {
   "cell_type": "markdown",
   "metadata": {},
   "source": [
    "Thousands of people around the world have already tested this product. Among them are well-known [politicians](https://www.facebook.com/Johnny.Sins.Official/), [doctors](https://www.facebook.com/Johnny.Sins.Official/), [cosmonauts](https://www.facebook.com/Johnny.Sins.Official/) and many others.\n",
    "This product guarantees a 100% chance to determine the probability of jackpot.\n",
    "Don't fuck with NN."
   ]
  },
  {
   "cell_type": "markdown",
   "metadata": {},
   "source": [
    "ALL RIGHTS RESERVED"
   ]
  },
  {
   "cell_type": "code",
   "execution_count": 1,
   "metadata": {},
   "outputs": [],
   "source": [
    "import numpy as np\n",
    "from scipy import optimize\n",
    "import matplotlib.pyplot as plt\n",
    "from random import choice\n",
    "from scipy.special import expit\n",
    "%matplotlib inline"
   ]
  },
  {
   "cell_type": "markdown",
   "metadata": {},
   "source": [
    "To calculate your chanse, run the code below."
   ]
  },
  {
   "cell_type": "code",
   "execution_count": 2,
   "metadata": {},
   "outputs": [],
   "source": [
    "jonhson_size = np.array(([5],[10],[15],[20],\n",
    "                         [25],[17],[24], [3]), dtype=float)\n",
    "\n",
    "salary = np.array(([100],[500],[1000],[5000],\n",
    "                   [20000],[40000],[1000000],[1000000]), dtype=float)\n",
    "\n",
    "chance_to_have_threesom_with_hot_cheeks = np.array(([0.5],[10],[20],[55],\n",
    "                                                    [74],[65], [99], [97.5]), \n",
    "                                                   dtype=float)\n",
    "\n",
    "jonhson_size_n = jonhson_size/np.amax(jonhson_size, axis=0)\n",
    "\n",
    "salary_n = salary /np.amax(salary, axis=0)\n",
    "\n",
    "X = np.hstack((jonhson_size_n,salary_n))\n",
    "\n",
    "y = chance_to_have_threesom_with_hot_cheeks/100"
   ]
  },
  {
   "cell_type": "code",
   "execution_count": 3,
   "metadata": {},
   "outputs": [],
   "source": [
    "class Neural_Network(object):\n",
    "    def __init__(self):        \n",
    "        #Define Hyperparameters\n",
    "        self.inputLayerSize = 2\n",
    "        self.outputLayerSize = 1\n",
    "        self.hiddenLayerSize = 6\n",
    "        \n",
    "        #Weights (parameters)\n",
    "        self.W1 = np.random.randn(self.inputLayerSize,self.hiddenLayerSize)\n",
    "        self.W2 = np.random.randn(self.hiddenLayerSize,self.outputLayerSize)\n",
    "        \n",
    "    def forward(self, X):\n",
    "        #Propogate inputs though network\n",
    "        self.z2 = np.dot(X, self.W1)\n",
    "        self.a2 = self.sigmoid(self.z2)\n",
    "        self.z3 = np.dot(self.a2, self.W2)\n",
    "        yHat = self.sigmoid(self.z3) \n",
    "        return yHat\n",
    "        \n",
    "    def sigmoid(self, z):\n",
    "        #Apply sigmoid activation function to scalar, vector, or matrix\n",
    "        return 1/(1+np.exp(-z))\n",
    "    \n",
    "    def sigmoidPrime(self,z):\n",
    "        #Gradient of sigmoid\n",
    "        return np.exp(-z)/((1+np.exp(-z))**2)\n",
    "    \n",
    "    def costFunction(self, X, y):\n",
    "        #Compute cost for given X,y, use weights already stored in class.\n",
    "        self.yHat = self.forward(X)\n",
    "        J = 0.5*sum((y-self.yHat)**2)\n",
    "        return J\n",
    "        \n",
    "    def costFunctionPrime(self, X, y):\n",
    "        #Compute derivative with respect to W and W2 for a given X and y:\n",
    "        self.yHat = self.forward(X)\n",
    "        \n",
    "        delta3 = np.multiply(-(y-self.yHat), self.sigmoidPrime(self.z3))\n",
    "        dJdW2 = np.dot(self.a2.T, delta3)\n",
    "        \n",
    "        delta2 = np.dot(delta3, self.W2.T)*self.sigmoidPrime(self.z2)\n",
    "        dJdW1 = np.dot(X.T, delta2)  \n",
    "        \n",
    "        return dJdW1, dJdW2\n",
    "    \n",
    "    #Helper Functions for interacting with other classes:\n",
    "    def getParams(self):\n",
    "        #Get W1 and W2 unrolled into vector:\n",
    "        params = np.concatenate((self.W1.ravel(), self.W2.ravel()))\n",
    "        return params\n",
    "    \n",
    "    def setParams(self, params):\n",
    "        #Set W1 and W2 using single paramater vector.\n",
    "        W1_start = 0\n",
    "        W1_end = self.hiddenLayerSize * self.inputLayerSize\n",
    "        self.W1 = np.reshape(params[W1_start:W1_end], (self.inputLayerSize , self.hiddenLayerSize))\n",
    "        W2_end = W1_end + self.hiddenLayerSize*self.outputLayerSize\n",
    "        self.W2 = np.reshape(params[W1_end:W2_end], (self.hiddenLayerSize, self.outputLayerSize))\n",
    "        \n",
    "    def computeGradients(self, X, y):\n",
    "        dJdW1, dJdW2 = self.costFunctionPrime(X, y)\n",
    "        return np.concatenate((dJdW1.ravel(), dJdW2.ravel()))"
   ]
  },
  {
   "cell_type": "code",
   "execution_count": 4,
   "metadata": {},
   "outputs": [],
   "source": [
    "class trainer(object):\n",
    "    def __init__(self, N):\n",
    "        #Make Local reference to network:\n",
    "        self.N = N\n",
    "        \n",
    "    def callbackF(self, params):\n",
    "        self.N.setParams(params)\n",
    "        self.J.append(self.N.costFunction(self.X, self.y))   \n",
    "        \n",
    "    def costFunctionWrapper(self, params, X, y):\n",
    "        self.N.setParams(params)\n",
    "        cost = self.N.costFunction(X, y)\n",
    "        grad = self.N.computeGradients(X,y)\n",
    "        \n",
    "        return cost, grad\n",
    "        \n",
    "    def train(self, X, y):\n",
    "        #Make an internal variable for the callback function:\n",
    "        self.X = X\n",
    "        self.y = y\n",
    "\n",
    "        #Make empty list to store costs:\n",
    "        self.J = []\n",
    "        \n",
    "        params0 = self.N.getParams()\n",
    "\n",
    "        options = {'maxiter': 200, 'disp' : True}\n",
    "        _res = optimize.minimize(self.costFunctionWrapper, params0, jac=True, method='BFGS', \\\n",
    "                                 args=(X, y), options=options, callback=self.callbackF)\n",
    "\n",
    "        self.N.setParams(_res.x)\n",
    "        self.optimizationResults = _res"
   ]
  },
  {
   "cell_type": "code",
   "execution_count": 5,
   "metadata": {},
   "outputs": [],
   "source": [
    "NN = Neural_Network()"
   ]
  },
  {
   "cell_type": "code",
   "execution_count": 6,
   "metadata": {},
   "outputs": [],
   "source": [
    "T = trainer(NN)"
   ]
  },
  {
   "cell_type": "code",
   "execution_count": 7,
   "metadata": {},
   "outputs": [
    {
     "name": "stdout",
     "output_type": "stream",
     "text": [
      "Warning: Maximum number of iterations has been exceeded.\n",
      "         Current function value: 0.001827\n",
      "         Iterations: 200\n",
      "         Function evaluations: 223\n",
      "         Gradient evaluations: 223\n"
     ]
    }
   ],
   "source": [
    "T.train(X,y)"
   ]
  },
  {
   "cell_type": "code",
   "execution_count": 8,
   "metadata": {},
   "outputs": [
    {
     "data": {
      "text/plain": [
       "(array([[ -2.67750258e-04,  -2.40372854e-04,  -3.06881326e-05,\n",
       "           3.17022123e-06,  -7.37060008e-05,   1.01773368e-03],\n",
       "        [ -1.76417042e-05,  -4.11326943e-06,   1.97812344e-07,\n",
       "           1.10689423e-07,  -1.79251898e-06,   3.95434311e-05]]),\n",
       " array([[  3.28952684e-05],\n",
       "        [  1.92702000e-05],\n",
       "        [  2.09394052e-04],\n",
       "        [ -1.13023902e-05],\n",
       "        [  2.02785219e-05],\n",
       "        [  8.34174965e-05]]))"
      ]
     },
     "execution_count": 8,
     "metadata": {},
     "output_type": "execute_result"
    }
   ],
   "source": [
    "NN.costFunctionPrime(X,y)"
   ]
  },
  {
   "cell_type": "code",
   "execution_count": 9,
   "metadata": {
    "scrolled": false
   },
   "outputs": [
    {
     "data": {
      "text/plain": [
       "array([[  1.97036434],\n",
       "       [  6.24429889],\n",
       "       [ 23.01396125],\n",
       "       [ 52.93793338],\n",
       "       [ 74.98119098],\n",
       "       [ 65.0368199 ],\n",
       "       [ 98.75594885],\n",
       "       [ 99.9313303 ]])"
      ]
     },
     "execution_count": 9,
     "metadata": {},
     "output_type": "execute_result"
    }
   ],
   "source": [
    "NN.forward(X) * 100"
   ]
  },
  {
   "cell_type": "code",
   "execution_count": 10,
   "metadata": {
    "scrolled": true
   },
   "outputs": [
    {
     "data": {
      "text/plain": [
       "array([[ 0.005],\n",
       "       [ 0.1  ],\n",
       "       [ 0.2  ],\n",
       "       [ 0.55 ],\n",
       "       [ 0.74 ],\n",
       "       [ 0.65 ],\n",
       "       [ 0.99 ],\n",
       "       [ 0.975]])"
      ]
     },
     "execution_count": 10,
     "metadata": {},
     "output_type": "execute_result"
    }
   ],
   "source": [
    "y"
   ]
  },
  {
   "cell_type": "code",
   "execution_count": 11,
   "metadata": {},
   "outputs": [],
   "source": [
    "def calculate_your_chance(size, sal,ar1 = jonhson_size, ar2 = salary):\n",
    "    if size > 30:\n",
    "        print('( ͡° ͜ʖ ͡°) ' + ' OH BOI')\n",
    "    ar1 = np.append(ar1, np.array([size]))\n",
    "    ar1 = ar1/np.amax(ar1, axis=0)\n",
    "    ar2 = np.append(ar2, np.array([sal]))\n",
    "    ar2 = ar2/np.amax(ar2, axis=0)\n",
    "    X1 = np.hstack((ar1.reshape((ar1.size, 1)),\n",
    "                    ar2.reshape((ar2.size, 1))))\n",
    "    return  X1"
   ]
  },
  {
   "cell_type": "markdown",
   "metadata": {},
   "source": [
    "Input ur johnson's size in cm and ur monthly salary in $"
   ]
  },
  {
   "cell_type": "code",
   "execution_count": 13,
   "metadata": {
    "scrolled": true
   },
   "outputs": [
    {
     "name": "stdout",
     "output_type": "stream",
     "text": [
      "Input ur boi  20\n",
      "Input ur salary  1000\n",
      "Your chance to have fun is 49.837598571940624%\n"
     ]
    }
   ],
   "source": [
    "size = float((input('Input ur boi  ')))\n",
    "sal = float((input('Input ur salary  ')))\n",
    "\n",
    "print('Your chance to have fun is ' + \\\n",
    "      str(NN.forward(calculate_your_chance(size, sal)).item(-1) * 100) + '%')"
   ]
  },
  {
   "cell_type": "markdown",
   "metadata": {},
   "source": [
    "I'm not a sexist. Sorry girls, I promise I'll make some kind of calculator for you in next version."
   ]
  },
  {
   "cell_type": "markdown",
   "metadata": {},
   "source": [
    "This calculator is for lulz. If you don't like it, go fuck yourself."
   ]
  }
 ],
 "metadata": {
  "kernelspec": {
   "display_name": "Python 3",
   "language": "python",
   "name": "python3"
  },
  "language_info": {
   "codemirror_mode": {
    "name": "ipython",
    "version": 3
   },
   "file_extension": ".py",
   "mimetype": "text/x-python",
   "name": "python",
   "nbconvert_exporter": "python",
   "pygments_lexer": "ipython3",
   "version": "3.5.2"
  }
 },
 "nbformat": 4,
 "nbformat_minor": 2
}
